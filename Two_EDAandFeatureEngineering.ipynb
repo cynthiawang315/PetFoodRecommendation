{
 "cells": [
  {
   "cell_type": "markdown",
   "metadata": {},
   "source": [
    "# Start cleaning dataframe"
   ]
  },
  {
   "cell_type": "code",
   "execution_count": 138,
   "metadata": {},
   "outputs": [],
   "source": [
    "import pickle\n",
    "with open('CatFoodList.pickle','rb') as read_file:\n",
    "    cat_list = pickle.load(read_file)"
   ]
  },
  {
   "cell_type": "code",
   "execution_count": 139,
   "metadata": {},
   "outputs": [],
   "source": [
    "with open('DogFoodList.pickle','rb') as read_file:\n",
    "    dog_list = pickle.load(read_file)"
   ]
  },
  {
   "cell_type": "code",
   "execution_count": 140,
   "metadata": {},
   "outputs": [],
   "source": [
    "import pandas as pd\n",
    "import numpy as np\n",
    "import re\n",
    "import matplotlib.pyplot as plt\n",
    "import seaborn as sns\n",
    "%matplotlib inline"
   ]
  },
  {
   "cell_type": "code",
   "execution_count": 141,
   "metadata": {},
   "outputs": [],
   "source": [
    "cat_list['Pet'] = 1 # cat = 1\n",
    "dog_list['Pet'] = 0 # dog = 0 "
   ]
  },
  {
   "cell_type": "code",
   "execution_count": 142,
   "metadata": {},
   "outputs": [],
   "source": [
    "food_list= pd.concat([dog_list,cat_list],ignore_index=True)"
   ]
  },
  {
   "cell_type": "code",
   "execution_count": 143,
   "metadata": {},
   "outputs": [],
   "source": [
    "# transform 'Weight' column\n",
    "weight = []\n",
    "for i in food_list.Weight_lbs:\n",
    "    try:\n",
    "        i = float(i)\n",
    "        weight.append(i)\n",
    "    except:\n",
    "        weight.append(None)\n",
    "food_list['Weight'] = weight\n",
    "del food_list['Weight_lbs']"
   ]
  },
  {
   "cell_type": "code",
   "execution_count": 144,
   "metadata": {},
   "outputs": [],
   "source": [
    "# change data type\n",
    "food_list.Price = pd.to_numeric(food_list.Price)\n",
    "food_list.Fat_min = pd.to_numeric(food_list.Fat_min)\n",
    "food_list.Fiber_max = pd.to_numeric(food_list.Fiber_max)\n",
    "food_list.Moisture_max = pd.to_numeric(food_list.Moisture_max)\n",
    "food_list.Protein_min = pd.to_numeric(food_list.Protein_min)\n",
    "food_list.Weight = pd.to_numeric(food_list.Weight)\n",
    "food_list.ReviewNum = pd.to_numeric(food_list.ReviewNum)"
   ]
  },
  {
   "cell_type": "code",
   "execution_count": 145,
   "metadata": {},
   "outputs": [
    {
     "name": "stdout",
     "output_type": "stream",
     "text": [
      "<class 'pandas.core.frame.DataFrame'>\n",
      "RangeIndex: 6595 entries, 0 to 6594\n",
      "Data columns (total 15 columns):\n",
      " #   Column               Non-Null Count  Dtype  \n",
      "---  ------               --------------  -----  \n",
      " 0   RecommendationScore  6595 non-null   float64\n",
      " 1   ReviewNum            6595 non-null   int64  \n",
      " 2   ProductTitle         6595 non-null   object \n",
      " 3   ItemNumber           6595 non-null   object \n",
      " 4   Price                6594 non-null   float64\n",
      " 5   Brand                6595 non-null   object \n",
      " 6   FoodForm             6595 non-null   object \n",
      " 7   LifeStage            6595 non-null   object \n",
      " 8   SpecialDiet          5340 non-null   object \n",
      " 9   Protein_min          5820 non-null   float64\n",
      " 10  Fat_min              5794 non-null   float64\n",
      " 11  Moisture_max         5782 non-null   float64\n",
      " 12  Fiber_max            5825 non-null   float64\n",
      " 13  Pet                  6595 non-null   int64  \n",
      " 14  Weight               4707 non-null   float64\n",
      "dtypes: float64(7), int64(2), object(6)\n",
      "memory usage: 773.0+ KB\n"
     ]
    }
   ],
   "source": [
    "food_list.info()"
   ]
  },
  {
   "cell_type": "code",
   "execution_count": 146,
   "metadata": {},
   "outputs": [],
   "source": [
    "# Get a new variable 'PricePerPound'\n",
    "food_list['PricePerPound'] = food_list['Price']/food_list['Weight']"
   ]
  },
  {
   "cell_type": "code",
   "execution_count": 147,
   "metadata": {
    "scrolled": false
   },
   "outputs": [
    {
     "data": {
      "text/html": [
       "<div>\n",
       "<style scoped>\n",
       "    .dataframe tbody tr th:only-of-type {\n",
       "        vertical-align: middle;\n",
       "    }\n",
       "\n",
       "    .dataframe tbody tr th {\n",
       "        vertical-align: top;\n",
       "    }\n",
       "\n",
       "    .dataframe thead th {\n",
       "        text-align: right;\n",
       "    }\n",
       "</style>\n",
       "<table border=\"1\" class=\"dataframe\">\n",
       "  <thead>\n",
       "    <tr style=\"text-align: right;\">\n",
       "      <th></th>\n",
       "      <th>RecommendationScore</th>\n",
       "      <th>ReviewNum</th>\n",
       "      <th>ProductTitle</th>\n",
       "      <th>ItemNumber</th>\n",
       "      <th>Price</th>\n",
       "      <th>Brand</th>\n",
       "      <th>FoodForm</th>\n",
       "      <th>LifeStage</th>\n",
       "      <th>SpecialDiet</th>\n",
       "      <th>Protein_min</th>\n",
       "      <th>Fat_min</th>\n",
       "      <th>Moisture_max</th>\n",
       "      <th>Fiber_max</th>\n",
       "      <th>Pet</th>\n",
       "      <th>Weight</th>\n",
       "      <th>PricePerPound</th>\n",
       "    </tr>\n",
       "  </thead>\n",
       "  <tbody>\n",
       "    <tr>\n",
       "      <th>0</th>\n",
       "      <td>94.0</td>\n",
       "      <td>2676</td>\n",
       "      <td>American Journey Salmon &amp; Sweet Potato Recipe ...</td>\n",
       "      <td>108423</td>\n",
       "      <td>42.99</td>\n",
       "      <td>American Journey</td>\n",
       "      <td>Dry Food</td>\n",
       "      <td>Adult</td>\n",
       "      <td>Grain-Free, No Corn No Wheat No Soy, Gluten Fr...</td>\n",
       "      <td>32.0</td>\n",
       "      <td>14.0</td>\n",
       "      <td>10.0</td>\n",
       "      <td>5.0</td>\n",
       "      <td>0</td>\n",
       "      <td>24.0</td>\n",
       "      <td>1.791250</td>\n",
       "    </tr>\n",
       "    <tr>\n",
       "      <th>1</th>\n",
       "      <td>95.0</td>\n",
       "      <td>295</td>\n",
       "      <td>Moist &amp; Meaty Burger with Cheddar Cheese Flavo...</td>\n",
       "      <td>100187</td>\n",
       "      <td>15.99</td>\n",
       "      <td>Moist &amp; Meaty</td>\n",
       "      <td>Dry Food</td>\n",
       "      <td>Adult</td>\n",
       "      <td>None</td>\n",
       "      <td>18.0</td>\n",
       "      <td>7.0</td>\n",
       "      <td>33.0</td>\n",
       "      <td>3.0</td>\n",
       "      <td>0</td>\n",
       "      <td>13.5</td>\n",
       "      <td>1.184444</td>\n",
       "    </tr>\n",
       "    <tr>\n",
       "      <th>2</th>\n",
       "      <td>96.0</td>\n",
       "      <td>854</td>\n",
       "      <td>Blue Buffalo Life Protection Formula Small Bre...</td>\n",
       "      <td>46874</td>\n",
       "      <td>32.98</td>\n",
       "      <td>Blue Buffalo</td>\n",
       "      <td>Dry Food</td>\n",
       "      <td>Adult</td>\n",
       "      <td>No Corn No Wheat No Soy</td>\n",
       "      <td>26.0</td>\n",
       "      <td>15.0</td>\n",
       "      <td>10.0</td>\n",
       "      <td>4.0</td>\n",
       "      <td>0</td>\n",
       "      <td>15.0</td>\n",
       "      <td>2.198667</td>\n",
       "    </tr>\n",
       "    <tr>\n",
       "      <th>3</th>\n",
       "      <td>100.0</td>\n",
       "      <td>19</td>\n",
       "      <td>American Journey Healthy Weight Salmon &amp; Sweet...</td>\n",
       "      <td>183120</td>\n",
       "      <td>48.99</td>\n",
       "      <td>American Journey</td>\n",
       "      <td>Dry Food</td>\n",
       "      <td>Adult</td>\n",
       "      <td>Grain-Free, No Corn No Wheat No Soy, Weight Co...</td>\n",
       "      <td>30.0</td>\n",
       "      <td>9.0</td>\n",
       "      <td>10.0</td>\n",
       "      <td>9.0</td>\n",
       "      <td>0</td>\n",
       "      <td>24.0</td>\n",
       "      <td>2.041250</td>\n",
       "    </tr>\n",
       "    <tr>\n",
       "      <th>4</th>\n",
       "      <td>95.0</td>\n",
       "      <td>3310</td>\n",
       "      <td>Taste of the Wild High Prairie Grain-Free Dry ...</td>\n",
       "      <td>154551</td>\n",
       "      <td>48.99</td>\n",
       "      <td>Taste of the Wild</td>\n",
       "      <td>Dry Food</td>\n",
       "      <td>Adult</td>\n",
       "      <td>Grain-Free, Gluten Free</td>\n",
       "      <td>32.0</td>\n",
       "      <td>18.0</td>\n",
       "      <td>10.0</td>\n",
       "      <td>4.0</td>\n",
       "      <td>0</td>\n",
       "      <td>NaN</td>\n",
       "      <td>NaN</td>\n",
       "    </tr>\n",
       "  </tbody>\n",
       "</table>\n",
       "</div>"
      ],
      "text/plain": [
       "   RecommendationScore  ReviewNum  \\\n",
       "0                 94.0       2676   \n",
       "1                 95.0        295   \n",
       "2                 96.0        854   \n",
       "3                100.0         19   \n",
       "4                 95.0       3310   \n",
       "\n",
       "                                        ProductTitle ItemNumber  Price  \\\n",
       "0  American Journey Salmon & Sweet Potato Recipe ...     108423  42.99   \n",
       "1  Moist & Meaty Burger with Cheddar Cheese Flavo...     100187  15.99   \n",
       "2  Blue Buffalo Life Protection Formula Small Bre...      46874  32.98   \n",
       "3  American Journey Healthy Weight Salmon & Sweet...     183120  48.99   \n",
       "4  Taste of the Wild High Prairie Grain-Free Dry ...     154551  48.99   \n",
       "\n",
       "               Brand  FoodForm LifeStage  \\\n",
       "0   American Journey  Dry Food     Adult   \n",
       "1      Moist & Meaty  Dry Food     Adult   \n",
       "2       Blue Buffalo  Dry Food     Adult   \n",
       "3   American Journey  Dry Food     Adult   \n",
       "4  Taste of the Wild  Dry Food     Adult   \n",
       "\n",
       "                                         SpecialDiet  Protein_min  Fat_min  \\\n",
       "0  Grain-Free, No Corn No Wheat No Soy, Gluten Fr...         32.0     14.0   \n",
       "1                                               None         18.0      7.0   \n",
       "2                            No Corn No Wheat No Soy         26.0     15.0   \n",
       "3  Grain-Free, No Corn No Wheat No Soy, Weight Co...         30.0      9.0   \n",
       "4                            Grain-Free, Gluten Free         32.0     18.0   \n",
       "\n",
       "   Moisture_max  Fiber_max  Pet  Weight  PricePerPound  \n",
       "0          10.0        5.0    0    24.0       1.791250  \n",
       "1          33.0        3.0    0    13.5       1.184444  \n",
       "2          10.0        4.0    0    15.0       2.198667  \n",
       "3          10.0        9.0    0    24.0       2.041250  \n",
       "4          10.0        4.0    0     NaN            NaN  "
      ]
     },
     "execution_count": 147,
     "metadata": {},
     "output_type": "execute_result"
    }
   ],
   "source": [
    "food_list.head(5)"
   ]
  },
  {
   "cell_type": "markdown",
   "metadata": {},
   "source": [
    "# Check missing values"
   ]
  },
  {
   "cell_type": "code",
   "execution_count": 148,
   "metadata": {},
   "outputs": [],
   "source": [
    "# Remove products with 0 reviews (no reviews = no recommendation score)\n",
    "food_list = food_list[food_list.ReviewNum != 0]"
   ]
  },
  {
   "cell_type": "code",
   "execution_count": 149,
   "metadata": {},
   "outputs": [],
   "source": [
    "# one item without price is unavailable on Chewy; removed\n",
    "food_list = food_list[food_list.Price.notna()]"
   ]
  },
  {
   "cell_type": "code",
   "execution_count": 150,
   "metadata": {},
   "outputs": [
    {
     "name": "stdout",
     "output_type": "stream",
     "text": [
      "<class 'pandas.core.frame.DataFrame'>\n",
      "Int64Index: 6260 entries, 0 to 6593\n",
      "Data columns (total 16 columns):\n",
      " #   Column               Non-Null Count  Dtype  \n",
      "---  ------               --------------  -----  \n",
      " 0   RecommendationScore  6260 non-null   float64\n",
      " 1   ReviewNum            6260 non-null   int64  \n",
      " 2   ProductTitle         6260 non-null   object \n",
      " 3   ItemNumber           6260 non-null   object \n",
      " 4   Price                6260 non-null   float64\n",
      " 5   Brand                6260 non-null   object \n",
      " 6   FoodForm             6260 non-null   object \n",
      " 7   LifeStage            6260 non-null   object \n",
      " 8   SpecialDiet          5085 non-null   object \n",
      " 9   Protein_min          5594 non-null   float64\n",
      " 10  Fat_min              5566 non-null   float64\n",
      " 11  Moisture_max         5490 non-null   float64\n",
      " 12  Fiber_max            5527 non-null   float64\n",
      " 13  Pet                  6260 non-null   int64  \n",
      " 14  Weight               4443 non-null   float64\n",
      " 15  PricePerPound        4443 non-null   float64\n",
      "dtypes: float64(8), int64(2), object(6)\n",
      "memory usage: 831.4+ KB\n"
     ]
    }
   ],
   "source": [
    "food_list.info()"
   ]
  },
  {
   "cell_type": "code",
   "execution_count": 151,
   "metadata": {},
   "outputs": [
    {
     "data": {
      "text/html": [
       "<div>\n",
       "<style scoped>\n",
       "    .dataframe tbody tr th:only-of-type {\n",
       "        vertical-align: middle;\n",
       "    }\n",
       "\n",
       "    .dataframe tbody tr th {\n",
       "        vertical-align: top;\n",
       "    }\n",
       "\n",
       "    .dataframe thead th {\n",
       "        text-align: right;\n",
       "    }\n",
       "</style>\n",
       "<table border=\"1\" class=\"dataframe\">\n",
       "  <thead>\n",
       "    <tr style=\"text-align: right;\">\n",
       "      <th></th>\n",
       "      <th>RecommendationScore</th>\n",
       "      <th>ReviewNum</th>\n",
       "      <th>Price</th>\n",
       "      <th>Protein_min</th>\n",
       "      <th>Fat_min</th>\n",
       "      <th>Moisture_max</th>\n",
       "      <th>Fiber_max</th>\n",
       "      <th>Pet</th>\n",
       "      <th>Weight</th>\n",
       "      <th>PricePerPound</th>\n",
       "    </tr>\n",
       "  </thead>\n",
       "  <tbody>\n",
       "    <tr>\n",
       "      <th>count</th>\n",
       "      <td>6260.000000</td>\n",
       "      <td>6260.000000</td>\n",
       "      <td>6260.000000</td>\n",
       "      <td>5594.000000</td>\n",
       "      <td>5566.000000</td>\n",
       "      <td>5490.000000</td>\n",
       "      <td>5527.000000</td>\n",
       "      <td>6260.000000</td>\n",
       "      <td>4443.000000</td>\n",
       "      <td>4443.000000</td>\n",
       "    </tr>\n",
       "    <tr>\n",
       "      <th>mean</th>\n",
       "      <td>90.125879</td>\n",
       "      <td>96.023962</td>\n",
       "      <td>34.430562</td>\n",
       "      <td>20.100748</td>\n",
       "      <td>9.236112</td>\n",
       "      <td>47.932949</td>\n",
       "      <td>2.780284</td>\n",
       "      <td>0.419649</td>\n",
       "      <td>11.052595</td>\n",
       "      <td>11.833476</td>\n",
       "    </tr>\n",
       "    <tr>\n",
       "      <th>std</th>\n",
       "      <td>10.355009</td>\n",
       "      <td>165.519809</td>\n",
       "      <td>20.370620</td>\n",
       "      <td>15.230387</td>\n",
       "      <td>8.117962</td>\n",
       "      <td>35.301262</td>\n",
       "      <td>3.328410</td>\n",
       "      <td>0.493541</td>\n",
       "      <td>10.249814</td>\n",
       "      <td>27.304577</td>\n",
       "    </tr>\n",
       "    <tr>\n",
       "      <th>min</th>\n",
       "      <td>20.000000</td>\n",
       "      <td>1.000000</td>\n",
       "      <td>1.990000</td>\n",
       "      <td>0.000000</td>\n",
       "      <td>0.000000</td>\n",
       "      <td>0.100000</td>\n",
       "      <td>0.000000</td>\n",
       "      <td>0.000000</td>\n",
       "      <td>0.046875</td>\n",
       "      <td>0.459800</td>\n",
       "    </tr>\n",
       "    <tr>\n",
       "      <th>25%</th>\n",
       "      <td>87.000000</td>\n",
       "      <td>14.000000</td>\n",
       "      <td>18.990000</td>\n",
       "      <td>9.000000</td>\n",
       "      <td>3.500000</td>\n",
       "      <td>10.000000</td>\n",
       "      <td>1.000000</td>\n",
       "      <td>0.000000</td>\n",
       "      <td>3.500000</td>\n",
       "      <td>2.539437</td>\n",
       "    </tr>\n",
       "    <tr>\n",
       "      <th>50%</th>\n",
       "      <td>93.000000</td>\n",
       "      <td>42.000000</td>\n",
       "      <td>30.990000</td>\n",
       "      <td>12.000000</td>\n",
       "      <td>6.500000</td>\n",
       "      <td>78.000000</td>\n",
       "      <td>1.800000</td>\n",
       "      <td>0.000000</td>\n",
       "      <td>8.250000</td>\n",
       "      <td>3.999600</td>\n",
       "    </tr>\n",
       "    <tr>\n",
       "      <th>75%</th>\n",
       "      <td>97.000000</td>\n",
       "      <td>109.000000</td>\n",
       "      <td>44.990000</td>\n",
       "      <td>29.000000</td>\n",
       "      <td>14.000000</td>\n",
       "      <td>80.000000</td>\n",
       "      <td>4.000000</td>\n",
       "      <td>1.000000</td>\n",
       "      <td>15.950000</td>\n",
       "      <td>7.012525</td>\n",
       "    </tr>\n",
       "    <tr>\n",
       "      <th>max</th>\n",
       "      <td>100.000000</td>\n",
       "      <td>3310.000000</td>\n",
       "      <td>218.990000</td>\n",
       "      <td>218.040000</td>\n",
       "      <td>99.900000</td>\n",
       "      <td>100.000000</td>\n",
       "      <td>156.355000</td>\n",
       "      <td>1.000000</td>\n",
       "      <td>50.000000</td>\n",
       "      <td>328.754717</td>\n",
       "    </tr>\n",
       "  </tbody>\n",
       "</table>\n",
       "</div>"
      ],
      "text/plain": [
       "       RecommendationScore    ReviewNum        Price  Protein_min  \\\n",
       "count          6260.000000  6260.000000  6260.000000  5594.000000   \n",
       "mean             90.125879    96.023962    34.430562    20.100748   \n",
       "std              10.355009   165.519809    20.370620    15.230387   \n",
       "min              20.000000     1.000000     1.990000     0.000000   \n",
       "25%              87.000000    14.000000    18.990000     9.000000   \n",
       "50%              93.000000    42.000000    30.990000    12.000000   \n",
       "75%              97.000000   109.000000    44.990000    29.000000   \n",
       "max             100.000000  3310.000000   218.990000   218.040000   \n",
       "\n",
       "           Fat_min  Moisture_max    Fiber_max          Pet       Weight  \\\n",
       "count  5566.000000   5490.000000  5527.000000  6260.000000  4443.000000   \n",
       "mean      9.236112     47.932949     2.780284     0.419649    11.052595   \n",
       "std       8.117962     35.301262     3.328410     0.493541    10.249814   \n",
       "min       0.000000      0.100000     0.000000     0.000000     0.046875   \n",
       "25%       3.500000     10.000000     1.000000     0.000000     3.500000   \n",
       "50%       6.500000     78.000000     1.800000     0.000000     8.250000   \n",
       "75%      14.000000     80.000000     4.000000     1.000000    15.950000   \n",
       "max      99.900000    100.000000   156.355000     1.000000    50.000000   \n",
       "\n",
       "       PricePerPound  \n",
       "count    4443.000000  \n",
       "mean       11.833476  \n",
       "std        27.304577  \n",
       "min         0.459800  \n",
       "25%         2.539437  \n",
       "50%         3.999600  \n",
       "75%         7.012525  \n",
       "max       328.754717  "
      ]
     },
     "execution_count": 151,
     "metadata": {},
     "output_type": "execute_result"
    }
   ],
   "source": [
    "food_list.describe()"
   ]
  },
  {
   "cell_type": "code",
   "execution_count": 152,
   "metadata": {},
   "outputs": [],
   "source": [
    "food_list.replace(to_replace=[None], value=np.nan, inplace=True)"
   ]
  },
  {
   "cell_type": "markdown",
   "metadata": {},
   "source": [
    "# Make Life Stage Categories (Divide 3 life stages into 3 columns)"
   ]
  },
  {
   "cell_type": "code",
   "execution_count": 153,
   "metadata": {
    "scrolled": true
   },
   "outputs": [
    {
     "data": {
      "text/plain": [
       "Adult                    5347\n",
       "Puppy                     246\n",
       "Adult, All Lifestages     214\n",
       "Senior                    164\n",
       "Kitten                    100\n",
       "Adult, Senior, Puppy       49\n",
       "Adult, Puppy               49\n",
       "Adult, Senior              29\n",
       "Adult, Kitten              26\n",
       "Senior, Adult              14\n",
       "Kitten, Adult              11\n",
       "All Lifestages              4\n",
       "Puppy, All Lifestages       4\n",
       "Adult, Puppy, Senior        3\n",
       "Name: LifeStage, dtype: int64"
      ]
     },
     "execution_count": 153,
     "metadata": {},
     "output_type": "execute_result"
    }
   ],
   "source": [
    "food_list.LifeStage.value_counts()"
   ]
  },
  {
   "cell_type": "code",
   "execution_count": 154,
   "metadata": {},
   "outputs": [],
   "source": [
    "# make three columns: Adult, Senior, PuppyOrKitten\n",
    "\n",
    "food_list.loc[food_list.LifeStage == 'Adult', 'Adult'] = 1\n",
    "\n",
    "food_list.loc[food_list.LifeStage == 'Puppy', 'PuppyOrKitten'] = 1\n",
    "\n",
    "food_list.loc[food_list.LifeStage == 'Adult, All Lifestages', 'Adult'] = 1\n",
    "food_list.loc[food_list.LifeStage == 'Adult, All Lifestages', 'PuppyOrKitten'] = 1\n",
    "food_list.loc[food_list.LifeStage == 'Adult, All Lifestages', 'Senior'] = 1\n",
    "\n",
    "food_list.loc[food_list.LifeStage == 'Senior', 'Senior'] = 1\n",
    "\n",
    "food_list.loc[food_list.LifeStage == 'Kitten', 'PuppyOrKitten'] = 1\n",
    "\n",
    "food_list.loc[food_list.LifeStage == 'Adult, Senior, Puppy', 'Adult'] = 1\n",
    "food_list.loc[food_list.LifeStage == 'Adult, Senior, Puppy', 'PuppyOrKitten'] = 1\n",
    "food_list.loc[food_list.LifeStage == 'Adult, Senior, Puppy', 'Senior'] = 1\n",
    "\n",
    "food_list.loc[food_list.LifeStage == 'Adult, Puppy', 'Adult'] = 1\n",
    "food_list.loc[food_list.LifeStage == 'Adult, Puppy', 'PuppyOrKitten'] = 1\n",
    "\n",
    "food_list.loc[food_list.LifeStage == 'Adult, Senior', 'Adult'] = 1\n",
    "food_list.loc[food_list.LifeStage == 'Adult, Senior', 'Senior'] = 1\n",
    "\n",
    "food_list.loc[food_list.LifeStage == 'Adult, Kitten', 'Adult'] = 1\n",
    "food_list.loc[food_list.LifeStage == 'Adult, Kitten', 'PuppyOrKitten'] = 1\n",
    "\n",
    "food_list.loc[food_list.LifeStage == 'Senior, Adult', 'Adult'] = 1\n",
    "food_list.loc[food_list.LifeStage == 'Senior, Adult', 'Senior'] = 1\n",
    "\n",
    "food_list.loc[food_list.LifeStage == 'Kitten, Adult', 'Adult'] = 1\n",
    "food_list.loc[food_list.LifeStage == 'Kitten, Adult', 'PuppyOrKitten'] = 1\n",
    "\n",
    "food_list.loc[food_list.LifeStage == 'Puppy, All Lifestages', 'Adult'] = 1\n",
    "food_list.loc[food_list.LifeStage == 'Puppy, All Lifestages', 'PuppyOrKitten'] = 1\n",
    "food_list.loc[food_list.LifeStage == 'Puppy, All Lifestages', 'Senior'] = 1\n",
    "\n",
    "food_list.loc[food_list.LifeStage == 'All Lifestages', 'Adult'] = 1\n",
    "food_list.loc[food_list.LifeStage == 'All Lifestages', 'PuppyOrKitten'] = 1\n",
    "food_list.loc[food_list.LifeStage == 'All Lifestages', 'Senior'] = 1\n",
    "\n",
    "food_list.loc[food_list.LifeStage == 'Adult, Puppy, Senior ', 'Adult'] = 1\n",
    "food_list.loc[food_list.LifeStage == 'Adult, Puppy, Senior ', 'PuppyOrKitten'] = 1\n",
    "food_list.loc[food_list.LifeStage == 'Adult, Puppy, Senior ', 'Senior'] = 1\n",
    "\n",
    "food_list['Adult'].fillna(0, inplace=True)\n",
    "food_list['PuppyOrKitten'].fillna(0, inplace=True)\n",
    "food_list['Senior'].fillna(0, inplace=True)"
   ]
  },
  {
   "cell_type": "markdown",
   "metadata": {},
   "source": [
    "# Make Food Form Columns (8 forms)"
   ]
  },
  {
   "cell_type": "code",
   "execution_count": 155,
   "metadata": {},
   "outputs": [],
   "source": [
    "# some items may have multiple food forms (e.g. freeze-dried and food topping)\n",
    "\n",
    "for index, row in food_list.iterrows():\n",
    "    FoodForm = row['FoodForm']\n",
    "    food_list.at[index,'Treats'] = re.search('Treats',FoodForm)\n",
    "    food_list.at[index,'DryFood'] = re.search('Dry Food',FoodForm)\n",
    "    food_list.at[index,'WetFood'] = re.search('Wet Food',FoodForm)\n",
    "    food_list.at[index,'FreezeDried'] = re.search('Freeze-Dried',FoodForm)\n",
    "    food_list.at[index,'FoodTopping'] = re.search('Food Topping',FoodForm)\n",
    "    food_list.at[index,'Dehydrated'] = re.search('Dehydrated',FoodForm) \n",
    "    food_list.at[index,'AirDried'] = re.search('Air-Dried',FoodForm)\n",
    "    food_list.at[index,'Frozen'] = re.search('Frozen',FoodForm)"
   ]
  },
  {
   "cell_type": "code",
   "execution_count": 156,
   "metadata": {},
   "outputs": [],
   "source": [
    "def clean_food_form(form):\n",
    "    try:\n",
    "        form.group(0)\n",
    "        return 1\n",
    "    except:\n",
    "        return 0\n",
    "food_list['Treats'] = food_list.Treats.apply(clean_food_form)\n",
    "food_list['DryFood'] = food_list.DryFood.apply(clean_food_form)\n",
    "food_list['WetFood'] = food_list.WetFood.apply(clean_food_form)\n",
    "food_list['FreezeDried'] = food_list.FreezeDried.apply(clean_food_form)\n",
    "food_list['FoodTopping'] = food_list.FoodTopping.apply(clean_food_form)\n",
    "food_list['Dehydrated'] = food_list.Dehydrated.apply(clean_food_form)\n",
    "food_list['AirDried'] = food_list.AirDried.apply(clean_food_form)\n",
    "food_list['Frozen'] = food_list.Frozen.apply(clean_food_form)"
   ]
  },
  {
   "cell_type": "code",
   "execution_count": 157,
   "metadata": {},
   "outputs": [
    {
     "data": {
      "text/plain": [
       "Index(['RecommendationScore', 'ReviewNum', 'ProductTitle', 'ItemNumber',\n",
       "       'Price', 'Brand', 'FoodForm', 'LifeStage', 'SpecialDiet', 'Protein_min',\n",
       "       'Fat_min', 'Moisture_max', 'Fiber_max', 'Pet', 'Weight',\n",
       "       'PricePerPound', 'Adult', 'PuppyOrKitten', 'Senior', 'Treats',\n",
       "       'DryFood', 'WetFood', 'FreezeDried', 'FoodTopping', 'Dehydrated',\n",
       "       'AirDried', 'Frozen'],\n",
       "      dtype='object')"
      ]
     },
     "execution_count": 157,
     "metadata": {},
     "output_type": "execute_result"
    }
   ],
   "source": [
    "food_list.columns"
   ]
  },
  {
   "cell_type": "code",
   "execution_count": 158,
   "metadata": {},
   "outputs": [],
   "source": [
    "food_list['check'] = (food_list['Treats'] +food_list['DryFood']+food_list['WetFood']+food_list['FreezeDried']+\n",
    "                      food_list['FoodTopping']+food_list['Dehydrated']+ food_list['AirDried'] + food_list['Frozen'])"
   ]
  },
  {
   "cell_type": "code",
   "execution_count": 159,
   "metadata": {},
   "outputs": [],
   "source": [
    "# powder and supplement are not included\n",
    "food_list.drop(index = 2985, inplace = True)\n",
    "food_list.drop(index = 3045, inplace = True)\n",
    "food_list.drop(index = 6423\t, inplace = True)"
   ]
  },
  {
   "cell_type": "code",
   "execution_count": 160,
   "metadata": {},
   "outputs": [],
   "source": [
    "del food_list['check']"
   ]
  },
  {
   "cell_type": "markdown",
   "metadata": {},
   "source": [
    "# Make brand categories"
   ]
  },
  {
   "cell_type": "code",
   "execution_count": 161,
   "metadata": {},
   "outputs": [
    {
     "data": {
      "text/plain": [
       "242"
      ]
     },
     "execution_count": 161,
     "metadata": {},
     "output_type": "execute_result"
    }
   ],
   "source": [
    "len(food_list.Brand.unique())"
   ]
  },
  {
   "cell_type": "code",
   "execution_count": 162,
   "metadata": {},
   "outputs": [],
   "source": [
    "# make brand categories according to numbers of items listed by the brand; amount of items in each category is the same\n",
    "# merge different product lines into single brand\n",
    "food_list.loc[food_list.Brand == \"Hill's Prescription Diet\", 'Brand'] = \"Hill's\"\n",
    "food_list.loc[food_list.Brand == \"Hill's Science Diet\", 'Brand'] = \"Hill's\"\n",
    "food_list.loc[food_list.Brand == \"Purina Pro Plan\", 'Brand'] = \"Purina\"\n",
    "food_list.loc[food_list.Brand == \"Purina Beneful\", 'Brand'] = \"Purina\"\n",
    "food_list.loc[food_list.Brand == \"Purina ONE\", 'Brand'] = \"Purina\"\n",
    "food_list.loc[food_list.Brand == \"Purina Beyond\", 'Brand'] = \"Purina\"\n",
    "food_list.loc[food_list.Brand == \"Purina Pro Plan Veterinary Diets\", 'Brand'] = \"Purina\"\n",
    "food_list.loc[food_list.Brand == \"Purina Muse\", 'Brand'] = \"Purina\"\n",
    "food_list.loc[food_list.Brand == \"Purina Bella\", 'Brand'] = \"Purina\"\n",
    "food_list.loc[food_list.Brand == \"Royal Canin Veterinary Diet\", 'Brand'] = \"Royal Canin\"\n",
    "food_list.loc[food_list.Brand == \"Tiki Cat\", 'Brand'] = \"Tiki\"\n",
    "food_list.loc[food_list.Brand == \"Tiki Dog\", 'Brand'] = \"Tiki\"\n",
    "food_list.loc[food_list.Brand == \"Blue Buffalo Natural Veterinary Diet\", 'Brand'] = \"Blue Buffalo\""
   ]
  },
  {
   "cell_type": "code",
   "execution_count": 163,
   "metadata": {},
   "outputs": [
    {
     "data": {
      "text/plain": [
       "232"
      ]
     },
     "execution_count": 163,
     "metadata": {},
     "output_type": "execute_result"
    }
   ],
   "source": [
    "len(food_list.Brand.unique())"
   ]
  },
  {
   "cell_type": "code",
   "execution_count": 164,
   "metadata": {},
   "outputs": [
    {
     "data": {
      "text/html": [
       "<div>\n",
       "<style scoped>\n",
       "    .dataframe tbody tr th:only-of-type {\n",
       "        vertical-align: middle;\n",
       "    }\n",
       "\n",
       "    .dataframe tbody tr th {\n",
       "        vertical-align: top;\n",
       "    }\n",
       "\n",
       "    .dataframe thead th {\n",
       "        text-align: right;\n",
       "    }\n",
       "</style>\n",
       "<table border=\"1\" class=\"dataframe\">\n",
       "  <thead>\n",
       "    <tr style=\"text-align: right;\">\n",
       "      <th></th>\n",
       "      <th>Brand</th>\n",
       "      <th>Brand_cumsum</th>\n",
       "    </tr>\n",
       "  </thead>\n",
       "  <tbody>\n",
       "    <tr>\n",
       "      <th>Purina</th>\n",
       "      <td>447</td>\n",
       "      <td>447</td>\n",
       "    </tr>\n",
       "    <tr>\n",
       "      <th>Blue Buffalo</th>\n",
       "      <td>309</td>\n",
       "      <td>756</td>\n",
       "    </tr>\n",
       "    <tr>\n",
       "      <th>Royal Canin</th>\n",
       "      <td>278</td>\n",
       "      <td>1034</td>\n",
       "    </tr>\n",
       "    <tr>\n",
       "      <th>Hill's</th>\n",
       "      <td>272</td>\n",
       "      <td>1306</td>\n",
       "    </tr>\n",
       "    <tr>\n",
       "      <th>Wellness</th>\n",
       "      <td>213</td>\n",
       "      <td>1519</td>\n",
       "    </tr>\n",
       "  </tbody>\n",
       "</table>\n",
       "</div>"
      ],
      "text/plain": [
       "              Brand  Brand_cumsum\n",
       "Purina          447           447\n",
       "Blue Buffalo    309           756\n",
       "Royal Canin     278          1034\n",
       "Hill's          272          1306\n",
       "Wellness        213          1519"
      ]
     },
     "execution_count": 164,
     "metadata": {},
     "output_type": "execute_result"
    }
   ],
   "source": [
    "brand_list = pd.DataFrame(food_list.Brand.value_counts()).sort_values(by = 'Brand', ascending=False)\n",
    "brand_list['Brand_cumsum'] = brand_list['Brand'].cumsum()\n",
    "brand_list.head(5)"
   ]
  },
  {
   "cell_type": "code",
   "execution_count": 165,
   "metadata": {},
   "outputs": [
    {
     "data": {
      "text/plain": [
       "4"
      ]
     },
     "execution_count": 165,
     "metadata": {},
     "output_type": "execute_result"
    }
   ],
   "source": [
    "BrandOne = brand_list[brand_list['Brand_cumsum'] <= 1500]\n",
    "len(BrandOne)"
   ]
  },
  {
   "cell_type": "code",
   "execution_count": 166,
   "metadata": {},
   "outputs": [
    {
     "data": {
      "text/plain": [
       "14"
      ]
     },
     "execution_count": 166,
     "metadata": {},
     "output_type": "execute_result"
    }
   ],
   "source": [
    "BrandTwo = brand_list[(brand_list['Brand_cumsum'] <= 3000) & (brand_list['Brand_cumsum'] > 1500)]\n",
    "len(BrandTwo)"
   ]
  },
  {
   "cell_type": "code",
   "execution_count": 167,
   "metadata": {},
   "outputs": [
    {
     "data": {
      "text/plain": [
       "28"
      ]
     },
     "execution_count": 167,
     "metadata": {},
     "output_type": "execute_result"
    }
   ],
   "source": [
    "BrandThree = brand_list[(brand_list['Brand_cumsum'] <= 4500) & (brand_list['Brand_cumsum'] > 3000)]\n",
    "len(BrandThree)"
   ]
  },
  {
   "cell_type": "code",
   "execution_count": 168,
   "metadata": {},
   "outputs": [
    {
     "data": {
      "text/plain": [
       "186"
      ]
     },
     "execution_count": 168,
     "metadata": {},
     "output_type": "execute_result"
    }
   ],
   "source": [
    "BrandFour = brand_list[brand_list['Brand_cumsum'] > 4500]\n",
    "len(BrandFour)"
   ]
  },
  {
   "cell_type": "code",
   "execution_count": 169,
   "metadata": {},
   "outputs": [
    {
     "data": {
      "text/plain": [
       "BrandGroup4    1782\n",
       "BrandGroup2    1658\n",
       "BrandGroup3    1511\n",
       "BrandGroup1    1306\n",
       "Name: BrandGroup, dtype: int64"
      ]
     },
     "execution_count": 169,
     "metadata": {},
     "output_type": "execute_result"
    }
   ],
   "source": [
    "def brand_group(BrandName):\n",
    "    if BrandName in list(BrandOne.index):\n",
    "        return 'BrandGroup1'\n",
    "    elif BrandName in list(BrandTwo.index):\n",
    "        return 'BrandGroup2'\n",
    "    elif BrandName in list(BrandThree.index):\n",
    "        return 'BrandGroup3'\n",
    "    elif BrandName in list(BrandFour.index):\n",
    "        return 'BrandGroup4'\n",
    "food_list['BrandGroup'] = food_list.Brand.apply(brand_group)\n",
    "food_list.BrandGroup.value_counts()"
   ]
  },
  {
   "cell_type": "markdown",
   "metadata": {},
   "source": [
    "# Fill missing values"
   ]
  },
  {
   "cell_type": "markdown",
   "metadata": {},
   "source": [
    "Since different food types would have significantly different price per pound and nutritional content, the NaNs are filled by medians of food types."
   ]
  },
  {
   "cell_type": "code",
   "execution_count": 170,
   "metadata": {},
   "outputs": [],
   "source": [
    "food_list_clean = food_list.copy()"
   ]
  },
  {
   "cell_type": "code",
   "execution_count": 171,
   "metadata": {},
   "outputs": [],
   "source": [
    "del food_list_clean['ProductTitle']\n",
    "del food_list_clean['FoodForm']\n",
    "del food_list_clean['SpecialDiet']\n",
    "del food_list_clean['LifeStage']"
   ]
  },
  {
   "cell_type": "code",
   "execution_count": 172,
   "metadata": {},
   "outputs": [
    {
     "name": "stdout",
     "output_type": "stream",
     "text": [
      "<class 'pandas.core.frame.DataFrame'>\n",
      "Int64Index: 6257 entries, 0 to 6593\n",
      "Data columns (total 24 columns):\n",
      " #   Column               Non-Null Count  Dtype  \n",
      "---  ------               --------------  -----  \n",
      " 0   RecommendationScore  6257 non-null   float64\n",
      " 1   ReviewNum            6257 non-null   int64  \n",
      " 2   ItemNumber           6257 non-null   object \n",
      " 3   Price                6257 non-null   float64\n",
      " 4   Brand                6257 non-null   object \n",
      " 5   Protein_min          5594 non-null   float64\n",
      " 6   Fat_min              5566 non-null   float64\n",
      " 7   Moisture_max         5489 non-null   float64\n",
      " 8   Fiber_max            5526 non-null   float64\n",
      " 9   Pet                  6257 non-null   int64  \n",
      " 10  Weight               4443 non-null   float64\n",
      " 11  PricePerPound        4443 non-null   float64\n",
      " 12  Adult                6257 non-null   float64\n",
      " 13  PuppyOrKitten        6257 non-null   float64\n",
      " 14  Senior               6257 non-null   float64\n",
      " 15  Treats               6257 non-null   int64  \n",
      " 16  DryFood              6257 non-null   int64  \n",
      " 17  WetFood              6257 non-null   int64  \n",
      " 18  FreezeDried          6257 non-null   int64  \n",
      " 19  FoodTopping          6257 non-null   int64  \n",
      " 20  Dehydrated           6257 non-null   int64  \n",
      " 21  AirDried             6257 non-null   int64  \n",
      " 22  Frozen               6257 non-null   int64  \n",
      " 23  BrandGroup           6257 non-null   object \n",
      "dtypes: float64(11), int64(10), object(3)\n",
      "memory usage: 1.2+ MB\n"
     ]
    }
   ],
   "source": [
    "food_list_clean.info()"
   ]
  },
  {
   "cell_type": "code",
   "execution_count": 173,
   "metadata": {},
   "outputs": [
    {
     "data": {
      "text/html": [
       "<div>\n",
       "<style scoped>\n",
       "    .dataframe tbody tr th:only-of-type {\n",
       "        vertical-align: middle;\n",
       "    }\n",
       "\n",
       "    .dataframe tbody tr th {\n",
       "        vertical-align: top;\n",
       "    }\n",
       "\n",
       "    .dataframe thead th {\n",
       "        text-align: right;\n",
       "    }\n",
       "</style>\n",
       "<table border=\"1\" class=\"dataframe\">\n",
       "  <thead>\n",
       "    <tr style=\"text-align: right;\">\n",
       "      <th></th>\n",
       "      <th>RecommendationScore</th>\n",
       "      <th>ReviewNum</th>\n",
       "      <th>Price</th>\n",
       "      <th>Protein_min</th>\n",
       "      <th>Fat_min</th>\n",
       "      <th>Moisture_max</th>\n",
       "      <th>Fiber_max</th>\n",
       "      <th>Pet</th>\n",
       "      <th>Weight</th>\n",
       "      <th>PricePerPound</th>\n",
       "      <th>...</th>\n",
       "      <th>PuppyOrKitten</th>\n",
       "      <th>Senior</th>\n",
       "      <th>Treats</th>\n",
       "      <th>DryFood</th>\n",
       "      <th>WetFood</th>\n",
       "      <th>FreezeDried</th>\n",
       "      <th>FoodTopping</th>\n",
       "      <th>Dehydrated</th>\n",
       "      <th>AirDried</th>\n",
       "      <th>Frozen</th>\n",
       "    </tr>\n",
       "  </thead>\n",
       "  <tbody>\n",
       "    <tr>\n",
       "      <th>count</th>\n",
       "      <td>6257.000000</td>\n",
       "      <td>6257.000000</td>\n",
       "      <td>6257.000000</td>\n",
       "      <td>5594.000000</td>\n",
       "      <td>5566.000000</td>\n",
       "      <td>5489.000000</td>\n",
       "      <td>5526.000000</td>\n",
       "      <td>6257.000000</td>\n",
       "      <td>4443.000000</td>\n",
       "      <td>4443.000000</td>\n",
       "      <td>...</td>\n",
       "      <td>6257.000000</td>\n",
       "      <td>6257.000000</td>\n",
       "      <td>6257.000000</td>\n",
       "      <td>6257.000000</td>\n",
       "      <td>6257.000000</td>\n",
       "      <td>6257.000000</td>\n",
       "      <td>6257.000000</td>\n",
       "      <td>6257.000000</td>\n",
       "      <td>6257.000000</td>\n",
       "      <td>6257.000000</td>\n",
       "    </tr>\n",
       "    <tr>\n",
       "      <th>mean</th>\n",
       "      <td>90.121144</td>\n",
       "      <td>96.068883</td>\n",
       "      <td>34.434290</td>\n",
       "      <td>20.100748</td>\n",
       "      <td>9.236112</td>\n",
       "      <td>47.940224</td>\n",
       "      <td>2.779339</td>\n",
       "      <td>0.419690</td>\n",
       "      <td>11.052595</td>\n",
       "      <td>11.833476</td>\n",
       "      <td>...</td>\n",
       "      <td>0.112354</td>\n",
       "      <td>0.076394</td>\n",
       "      <td>0.063928</td>\n",
       "      <td>0.338821</td>\n",
       "      <td>0.518140</td>\n",
       "      <td>0.084226</td>\n",
       "      <td>0.073837</td>\n",
       "      <td>0.016781</td>\n",
       "      <td>0.004635</td>\n",
       "      <td>0.003037</td>\n",
       "    </tr>\n",
       "    <tr>\n",
       "      <th>std</th>\n",
       "      <td>10.355233</td>\n",
       "      <td>165.546771</td>\n",
       "      <td>20.374726</td>\n",
       "      <td>15.230387</td>\n",
       "      <td>8.117962</td>\n",
       "      <td>35.300362</td>\n",
       "      <td>3.327970</td>\n",
       "      <td>0.493548</td>\n",
       "      <td>10.249814</td>\n",
       "      <td>27.304577</td>\n",
       "      <td>...</td>\n",
       "      <td>0.315827</td>\n",
       "      <td>0.265649</td>\n",
       "      <td>0.244645</td>\n",
       "      <td>0.473347</td>\n",
       "      <td>0.499711</td>\n",
       "      <td>0.277748</td>\n",
       "      <td>0.261527</td>\n",
       "      <td>0.128461</td>\n",
       "      <td>0.067927</td>\n",
       "      <td>0.055026</td>\n",
       "    </tr>\n",
       "    <tr>\n",
       "      <th>min</th>\n",
       "      <td>20.000000</td>\n",
       "      <td>1.000000</td>\n",
       "      <td>1.990000</td>\n",
       "      <td>0.000000</td>\n",
       "      <td>0.000000</td>\n",
       "      <td>0.100000</td>\n",
       "      <td>0.000000</td>\n",
       "      <td>0.000000</td>\n",
       "      <td>0.046875</td>\n",
       "      <td>0.459800</td>\n",
       "      <td>...</td>\n",
       "      <td>0.000000</td>\n",
       "      <td>0.000000</td>\n",
       "      <td>0.000000</td>\n",
       "      <td>0.000000</td>\n",
       "      <td>0.000000</td>\n",
       "      <td>0.000000</td>\n",
       "      <td>0.000000</td>\n",
       "      <td>0.000000</td>\n",
       "      <td>0.000000</td>\n",
       "      <td>0.000000</td>\n",
       "    </tr>\n",
       "    <tr>\n",
       "      <th>25%</th>\n",
       "      <td>87.000000</td>\n",
       "      <td>14.000000</td>\n",
       "      <td>18.990000</td>\n",
       "      <td>9.000000</td>\n",
       "      <td>3.500000</td>\n",
       "      <td>10.000000</td>\n",
       "      <td>1.000000</td>\n",
       "      <td>0.000000</td>\n",
       "      <td>3.500000</td>\n",
       "      <td>2.539437</td>\n",
       "      <td>...</td>\n",
       "      <td>0.000000</td>\n",
       "      <td>0.000000</td>\n",
       "      <td>0.000000</td>\n",
       "      <td>0.000000</td>\n",
       "      <td>0.000000</td>\n",
       "      <td>0.000000</td>\n",
       "      <td>0.000000</td>\n",
       "      <td>0.000000</td>\n",
       "      <td>0.000000</td>\n",
       "      <td>0.000000</td>\n",
       "    </tr>\n",
       "    <tr>\n",
       "      <th>50%</th>\n",
       "      <td>93.000000</td>\n",
       "      <td>42.000000</td>\n",
       "      <td>30.990000</td>\n",
       "      <td>12.000000</td>\n",
       "      <td>6.500000</td>\n",
       "      <td>78.000000</td>\n",
       "      <td>1.800000</td>\n",
       "      <td>0.000000</td>\n",
       "      <td>8.250000</td>\n",
       "      <td>3.999600</td>\n",
       "      <td>...</td>\n",
       "      <td>0.000000</td>\n",
       "      <td>0.000000</td>\n",
       "      <td>0.000000</td>\n",
       "      <td>0.000000</td>\n",
       "      <td>1.000000</td>\n",
       "      <td>0.000000</td>\n",
       "      <td>0.000000</td>\n",
       "      <td>0.000000</td>\n",
       "      <td>0.000000</td>\n",
       "      <td>0.000000</td>\n",
       "    </tr>\n",
       "    <tr>\n",
       "      <th>75%</th>\n",
       "      <td>97.000000</td>\n",
       "      <td>109.000000</td>\n",
       "      <td>44.990000</td>\n",
       "      <td>29.000000</td>\n",
       "      <td>14.000000</td>\n",
       "      <td>80.000000</td>\n",
       "      <td>4.000000</td>\n",
       "      <td>1.000000</td>\n",
       "      <td>15.950000</td>\n",
       "      <td>7.012525</td>\n",
       "      <td>...</td>\n",
       "      <td>0.000000</td>\n",
       "      <td>0.000000</td>\n",
       "      <td>0.000000</td>\n",
       "      <td>1.000000</td>\n",
       "      <td>1.000000</td>\n",
       "      <td>0.000000</td>\n",
       "      <td>0.000000</td>\n",
       "      <td>0.000000</td>\n",
       "      <td>0.000000</td>\n",
       "      <td>0.000000</td>\n",
       "    </tr>\n",
       "    <tr>\n",
       "      <th>max</th>\n",
       "      <td>100.000000</td>\n",
       "      <td>3310.000000</td>\n",
       "      <td>218.990000</td>\n",
       "      <td>218.040000</td>\n",
       "      <td>99.900000</td>\n",
       "      <td>100.000000</td>\n",
       "      <td>156.355000</td>\n",
       "      <td>1.000000</td>\n",
       "      <td>50.000000</td>\n",
       "      <td>328.754717</td>\n",
       "      <td>...</td>\n",
       "      <td>1.000000</td>\n",
       "      <td>1.000000</td>\n",
       "      <td>1.000000</td>\n",
       "      <td>1.000000</td>\n",
       "      <td>1.000000</td>\n",
       "      <td>1.000000</td>\n",
       "      <td>1.000000</td>\n",
       "      <td>1.000000</td>\n",
       "      <td>1.000000</td>\n",
       "      <td>1.000000</td>\n",
       "    </tr>\n",
       "  </tbody>\n",
       "</table>\n",
       "<p>8 rows × 21 columns</p>\n",
       "</div>"
      ],
      "text/plain": [
       "       RecommendationScore    ReviewNum        Price  Protein_min  \\\n",
       "count          6257.000000  6257.000000  6257.000000  5594.000000   \n",
       "mean             90.121144    96.068883    34.434290    20.100748   \n",
       "std              10.355233   165.546771    20.374726    15.230387   \n",
       "min              20.000000     1.000000     1.990000     0.000000   \n",
       "25%              87.000000    14.000000    18.990000     9.000000   \n",
       "50%              93.000000    42.000000    30.990000    12.000000   \n",
       "75%              97.000000   109.000000    44.990000    29.000000   \n",
       "max             100.000000  3310.000000   218.990000   218.040000   \n",
       "\n",
       "           Fat_min  Moisture_max    Fiber_max          Pet       Weight  \\\n",
       "count  5566.000000   5489.000000  5526.000000  6257.000000  4443.000000   \n",
       "mean      9.236112     47.940224     2.779339     0.419690    11.052595   \n",
       "std       8.117962     35.300362     3.327970     0.493548    10.249814   \n",
       "min       0.000000      0.100000     0.000000     0.000000     0.046875   \n",
       "25%       3.500000     10.000000     1.000000     0.000000     3.500000   \n",
       "50%       6.500000     78.000000     1.800000     0.000000     8.250000   \n",
       "75%      14.000000     80.000000     4.000000     1.000000    15.950000   \n",
       "max      99.900000    100.000000   156.355000     1.000000    50.000000   \n",
       "\n",
       "       PricePerPound  ...  PuppyOrKitten       Senior       Treats  \\\n",
       "count    4443.000000  ...    6257.000000  6257.000000  6257.000000   \n",
       "mean       11.833476  ...       0.112354     0.076394     0.063928   \n",
       "std        27.304577  ...       0.315827     0.265649     0.244645   \n",
       "min         0.459800  ...       0.000000     0.000000     0.000000   \n",
       "25%         2.539437  ...       0.000000     0.000000     0.000000   \n",
       "50%         3.999600  ...       0.000000     0.000000     0.000000   \n",
       "75%         7.012525  ...       0.000000     0.000000     0.000000   \n",
       "max       328.754717  ...       1.000000     1.000000     1.000000   \n",
       "\n",
       "           DryFood      WetFood  FreezeDried  FoodTopping   Dehydrated  \\\n",
       "count  6257.000000  6257.000000  6257.000000  6257.000000  6257.000000   \n",
       "mean      0.338821     0.518140     0.084226     0.073837     0.016781   \n",
       "std       0.473347     0.499711     0.277748     0.261527     0.128461   \n",
       "min       0.000000     0.000000     0.000000     0.000000     0.000000   \n",
       "25%       0.000000     0.000000     0.000000     0.000000     0.000000   \n",
       "50%       0.000000     1.000000     0.000000     0.000000     0.000000   \n",
       "75%       1.000000     1.000000     0.000000     0.000000     0.000000   \n",
       "max       1.000000     1.000000     1.000000     1.000000     1.000000   \n",
       "\n",
       "          AirDried       Frozen  \n",
       "count  6257.000000  6257.000000  \n",
       "mean      0.004635     0.003037  \n",
       "std       0.067927     0.055026  \n",
       "min       0.000000     0.000000  \n",
       "25%       0.000000     0.000000  \n",
       "50%       0.000000     0.000000  \n",
       "75%       0.000000     0.000000  \n",
       "max       1.000000     1.000000  \n",
       "\n",
       "[8 rows x 21 columns]"
      ]
     },
     "execution_count": 173,
     "metadata": {},
     "output_type": "execute_result"
    }
   ],
   "source": [
    "food_list_clean.describe()"
   ]
  },
  {
   "cell_type": "code",
   "execution_count": 174,
   "metadata": {},
   "outputs": [
    {
     "data": {
      "text/plain": [
       "PricePerPound     2.726818\n",
       "Fat_min          14.000000\n",
       "Fiber_max         4.000000\n",
       "Protein_min      28.000000\n",
       "Moisture_max     10.000000\n",
       "dtype: float64"
      ]
     },
     "execution_count": 174,
     "metadata": {},
     "output_type": "execute_result"
    }
   ],
   "source": [
    "# Dry food\n",
    "food_list_clean[food_list_clean.DryFood == 1][['PricePerPound','Fat_min','Fiber_max',\n",
    "                                               'Protein_min','Moisture_max']].median()"
   ]
  },
  {
   "cell_type": "code",
   "execution_count": 175,
   "metadata": {},
   "outputs": [],
   "source": [
    "for index, row in food_list_clean.iterrows():\n",
    "    if row['DryFood'] == 1:\n",
    "        if pd.isna(row['PricePerPound']):\n",
    "            food_list_clean.at[index,'PricePerPound'] = 2.726818\n",
    "        if pd.isna(row['Fat_min']):\n",
    "            food_list_clean.at[index,'Fat_min'] = 14.000\n",
    "        if pd.isna(row['Fiber_max']):\n",
    "            food_list_clean.at[index,'Fiber_max'] = 4.000\n",
    "        if pd.isna(row['Protein_min']):\n",
    "            food_list_clean.at[index,'Protein_min'] = 28.000\n",
    "        if pd.isna(row['Moisture_max']):\n",
    "            food_list_clean.at[index,'Moisture_max'] = 10.000           "
   ]
  },
  {
   "cell_type": "code",
   "execution_count": 176,
   "metadata": {},
   "outputs": [
    {
     "data": {
      "text/plain": [
       "PricePerPound     5.156923\n",
       "Fat_min           4.000000\n",
       "Fiber_max         1.400000\n",
       "Protein_min       9.000000\n",
       "Moisture_max     80.000000\n",
       "dtype: float64"
      ]
     },
     "execution_count": 176,
     "metadata": {},
     "output_type": "execute_result"
    }
   ],
   "source": [
    "# Wet food\n",
    "food_list_clean[food_list_clean.WetFood == 1][['PricePerPound','Fat_min','Fiber_max',\n",
    "                                               'Protein_min','Moisture_max']].median()"
   ]
  },
  {
   "cell_type": "code",
   "execution_count": 177,
   "metadata": {},
   "outputs": [],
   "source": [
    "for index, row in food_list_clean.iterrows():\n",
    "    if row['WetFood'] == 1:\n",
    "        if pd.isna(row['PricePerPound']):\n",
    "            food_list_clean.at[index,'PricePerPound'] = 5.156923\n",
    "        if pd.isna(row['Fat_min']):\n",
    "            food_list_clean.at[index,'Fat_min'] = 4.000000\n",
    "        if pd.isna(row['Fiber_max']):\n",
    "            food_list_clean.at[index,'Fiber_max'] = 1.400000\n",
    "        if pd.isna(row['Protein_min']):\n",
    "            food_list_clean.at[index,'Protein_min'] = 9.000000\n",
    "        if pd.isna(row['Moisture_max']):\n",
    "            food_list_clean.at[index,'Moisture_max'] = 80.000000 "
   ]
  },
  {
   "cell_type": "code",
   "execution_count": 178,
   "metadata": {},
   "outputs": [
    {
     "data": {
      "text/plain": [
       "PricePerPound    37.973373\n",
       "Fat_min          17.000000\n",
       "Fiber_max         3.000000\n",
       "Protein_min      45.000000\n",
       "Moisture_max      7.000000\n",
       "dtype: float64"
      ]
     },
     "execution_count": 178,
     "metadata": {},
     "output_type": "execute_result"
    }
   ],
   "source": [
    "# Freeze-dried food\n",
    "food_list_clean[food_list_clean.FreezeDried == 1][['PricePerPound','Fat_min','Fiber_max',\n",
    "                                               'Protein_min','Moisture_max']].median()"
   ]
  },
  {
   "cell_type": "code",
   "execution_count": 179,
   "metadata": {},
   "outputs": [],
   "source": [
    "for index, row in food_list_clean.iterrows():\n",
    "    if row['FreezeDried'] == 1:\n",
    "        if pd.isna(row['PricePerPound']):\n",
    "            food_list_clean.at[index,'PricePerPound'] = 37.973373\n",
    "        if pd.isna(row['Fat_min']):\n",
    "            food_list_clean.at[index,'Fat_min'] = 17.000000\n",
    "        if pd.isna(row['Fiber_max']):\n",
    "            food_list_clean.at[index,'Fiber_max'] = 3.000000\n",
    "        if pd.isna(row['Protein_min']):\n",
    "            food_list_clean.at[index,'Protein_min'] = 45.000000\n",
    "        if pd.isna(row['Moisture_max']):\n",
    "            food_list_clean.at[index,'Moisture_max'] = 7.000000"
   ]
  },
  {
   "cell_type": "code",
   "execution_count": 180,
   "metadata": {},
   "outputs": [
    {
     "data": {
      "text/plain": [
       "PricePerPound    34.88\n",
       "Fat_min           6.50\n",
       "Fiber_max         1.50\n",
       "Protein_min      32.00\n",
       "Moisture_max     10.00\n",
       "dtype: float64"
      ]
     },
     "execution_count": 180,
     "metadata": {},
     "output_type": "execute_result"
    }
   ],
   "source": [
    "# food topping\n",
    "food_list_clean[food_list_clean.FoodTopping == 1][['PricePerPound','Fat_min','Fiber_max',\n",
    "                                               'Protein_min','Moisture_max']].median()"
   ]
  },
  {
   "cell_type": "code",
   "execution_count": 181,
   "metadata": {},
   "outputs": [],
   "source": [
    "for index, row in food_list_clean.iterrows():\n",
    "    if row['FoodTopping'] == 1:\n",
    "        if pd.isna(row['PricePerPound']):\n",
    "            food_list_clean.at[index,'PricePerPound'] = 34.88\n",
    "        if pd.isna(row['Fat_min']):\n",
    "            food_list_clean.at[index,'Fat_min'] = 6.50\n",
    "        if pd.isna(row['Fiber_max']):\n",
    "            food_list_clean.at[index,'Fiber_max'] = 1.50\n",
    "        if pd.isna(row['Protein_min']):\n",
    "            food_list_clean.at[index,'Protein_min'] = 32.00\n",
    "        if pd.isna(row['Moisture_max']):\n",
    "            food_list_clean.at[index,'Moisture_max'] = 10.00"
   ]
  },
  {
   "cell_type": "code",
   "execution_count": 182,
   "metadata": {},
   "outputs": [
    {
     "data": {
      "text/plain": [
       "PricePerPound    15.428571\n",
       "Fat_min          14.500000\n",
       "Fiber_max         2.500000\n",
       "Protein_min      35.000000\n",
       "Moisture_max     10.000000\n",
       "dtype: float64"
      ]
     },
     "execution_count": 182,
     "metadata": {},
     "output_type": "execute_result"
    }
   ],
   "source": [
    "# Dehydrated food\n",
    "food_list_clean[food_list_clean.Dehydrated == 1][['PricePerPound','Fat_min','Fiber_max',\n",
    "                                               'Protein_min','Moisture_max']].median()"
   ]
  },
  {
   "cell_type": "code",
   "execution_count": 183,
   "metadata": {},
   "outputs": [],
   "source": [
    "for index, row in food_list_clean.iterrows():\n",
    "    if row['Dehydrated'] == 1:\n",
    "        if pd.isna(row['PricePerPound']):\n",
    "            food_list_clean.at[index,'PricePerPound'] = 15.428571\n",
    "        if pd.isna(row['Fat_min']):\n",
    "            food_list_clean.at[index,'Fat_min'] = 14.500000\n",
    "        if pd.isna(row['Fiber_max']):\n",
    "            food_list_clean.at[index,'Fiber_max'] = 2.500000\n",
    "        if pd.isna(row['Protein_min']):\n",
    "            food_list_clean.at[index,'Protein_min'] = 35.000000\n",
    "        if pd.isna(row['Moisture_max']):\n",
    "            food_list_clean.at[index,'Moisture_max'] = 10.000000"
   ]
  },
  {
   "cell_type": "code",
   "execution_count": 184,
   "metadata": {},
   "outputs": [
    {
     "data": {
      "text/plain": [
       "PricePerPound    18.177273\n",
       "Fat_min          25.000000\n",
       "Fiber_max         2.000000\n",
       "Protein_min      38.000000\n",
       "Moisture_max     14.000000\n",
       "dtype: float64"
      ]
     },
     "execution_count": 184,
     "metadata": {},
     "output_type": "execute_result"
    }
   ],
   "source": [
    "# Air-dried food\n",
    "food_list_clean[food_list_clean.AirDried == 1][['PricePerPound','Fat_min','Fiber_max',\n",
    "                                               'Protein_min','Moisture_max']].median()"
   ]
  },
  {
   "cell_type": "code",
   "execution_count": 185,
   "metadata": {},
   "outputs": [],
   "source": [
    "for index, row in food_list_clean.iterrows():\n",
    "    if row['AirDried'] == 1:\n",
    "        if pd.isna(row['PricePerPound']):\n",
    "            food_list_clean.at[index,'PricePerPound'] = 18.177273\n",
    "        if pd.isna(row['Fat_min']):\n",
    "            food_list_clean.at[index,'Fat_min'] = 25.000000\n",
    "        if pd.isna(row['Fiber_max']):\n",
    "            food_list_clean.at[index,'Fiber_max'] = 2.000000\n",
    "        if pd.isna(row['Protein_min']):\n",
    "            food_list_clean.at[index,'Protein_min'] = 38.000000\n",
    "        if pd.isna(row['Moisture_max']):\n",
    "            food_list_clean.at[index,'Moisture_max'] = 14.000000"
   ]
  },
  {
   "cell_type": "code",
   "execution_count": 186,
   "metadata": {},
   "outputs": [
    {
     "data": {
      "text/plain": [
       "PricePerPound     5.996667\n",
       "Fat_min           8.000000\n",
       "Fiber_max         2.000000\n",
       "Protein_min      12.000000\n",
       "Moisture_max     70.000000\n",
       "dtype: float64"
      ]
     },
     "execution_count": 186,
     "metadata": {},
     "output_type": "execute_result"
    }
   ],
   "source": [
    "# Frozen food\n",
    "food_list_clean[food_list_clean.Frozen == 1][['PricePerPound','Fat_min','Fiber_max',\n",
    "                                               'Protein_min','Moisture_max']].median()"
   ]
  },
  {
   "cell_type": "code",
   "execution_count": 187,
   "metadata": {},
   "outputs": [],
   "source": [
    "for index, row in food_list_clean.iterrows():\n",
    "    if row['Frozen'] == 1:\n",
    "        if pd.isna(row['PricePerPound']):\n",
    "            food_list_clean.at[index,'PricePerPound'] = 5.996667\n",
    "        if pd.isna(row['Fat_min']):\n",
    "            food_list_clean.at[index,'Fat_min'] = 8.000000\n",
    "        if pd.isna(row['Fiber_max']):\n",
    "            food_list_clean.at[index,'Fiber_max'] = 2.000000\n",
    "        if pd.isna(row['Protein_min']):\n",
    "            food_list_clean.at[index,'Protein_min'] = 12.000000\n",
    "        if pd.isna(row['Moisture_max']):\n",
    "            food_list_clean.at[index,'Moisture_max'] = 70.000000"
   ]
  },
  {
   "cell_type": "code",
   "execution_count": 188,
   "metadata": {},
   "outputs": [
    {
     "data": {
      "text/plain": [
       "PricePerPound    37.973373\n",
       "Fat_min           9.000000\n",
       "Fiber_max         1.500000\n",
       "Protein_min      45.000000\n",
       "Moisture_max      8.000000\n",
       "dtype: float64"
      ]
     },
     "execution_count": 188,
     "metadata": {},
     "output_type": "execute_result"
    }
   ],
   "source": [
    "# Treats\n",
    "food_list_clean[food_list_clean.Treats == 1][['PricePerPound','Fat_min','Fiber_max',\n",
    "                                               'Protein_min','Moisture_max']].median()"
   ]
  },
  {
   "cell_type": "code",
   "execution_count": 189,
   "metadata": {},
   "outputs": [],
   "source": [
    "for index, row in food_list_clean.iterrows():\n",
    "    if row['Treats'] == 1:\n",
    "        if pd.isna(row['PricePerPound']):\n",
    "            food_list_clean.at[index,'PricePerPound'] = 37.973373\n",
    "        if pd.isna(row['Fat_min']):\n",
    "            food_list_clean.at[index,'Fat_min'] = 9.000000\n",
    "        if pd.isna(row['Fiber_max']):\n",
    "            food_list_clean.at[index,'Fiber_max'] = 1.500000\n",
    "        if pd.isna(row['Protein_min']):\n",
    "            food_list_clean.at[index,'Protein_min'] = 45.000000\n",
    "        if pd.isna(row['Moisture_max']):\n",
    "            food_list_clean.at[index,'Moisture_max'] = 8.000000"
   ]
  },
  {
   "cell_type": "code",
   "execution_count": 190,
   "metadata": {},
   "outputs": [],
   "source": [
    "# this product is an outlier based on protein content\n",
    "\n",
    "food_list_clean = food_list_clean[food_list_clean.Protein_min < 150]"
   ]
  },
  {
   "cell_type": "code",
   "execution_count": 191,
   "metadata": {},
   "outputs": [],
   "source": [
    "# Now we have a complete dataset for modeling\n",
    "\n",
    "import pickle\n",
    "with open('CleanList.pickle', 'wb') as to_write:\n",
    "    pickle.dump(food_list_clean, to_write)"
   ]
  },
  {
   "cell_type": "code",
   "execution_count": 192,
   "metadata": {},
   "outputs": [
    {
     "data": {
      "text/html": [
       "<div>\n",
       "<style scoped>\n",
       "    .dataframe tbody tr th:only-of-type {\n",
       "        vertical-align: middle;\n",
       "    }\n",
       "\n",
       "    .dataframe tbody tr th {\n",
       "        vertical-align: top;\n",
       "    }\n",
       "\n",
       "    .dataframe thead th {\n",
       "        text-align: right;\n",
       "    }\n",
       "</style>\n",
       "<table border=\"1\" class=\"dataframe\">\n",
       "  <thead>\n",
       "    <tr style=\"text-align: right;\">\n",
       "      <th></th>\n",
       "      <th>RecommendationScore</th>\n",
       "      <th>ReviewNum</th>\n",
       "      <th>ItemNumber</th>\n",
       "      <th>Price</th>\n",
       "      <th>Brand</th>\n",
       "      <th>Protein_min</th>\n",
       "      <th>Fat_min</th>\n",
       "      <th>Moisture_max</th>\n",
       "      <th>Fiber_max</th>\n",
       "      <th>Pet</th>\n",
       "      <th>...</th>\n",
       "      <th>Senior</th>\n",
       "      <th>Treats</th>\n",
       "      <th>DryFood</th>\n",
       "      <th>WetFood</th>\n",
       "      <th>FreezeDried</th>\n",
       "      <th>FoodTopping</th>\n",
       "      <th>Dehydrated</th>\n",
       "      <th>AirDried</th>\n",
       "      <th>Frozen</th>\n",
       "      <th>BrandGroup</th>\n",
       "    </tr>\n",
       "  </thead>\n",
       "  <tbody>\n",
       "    <tr>\n",
       "      <th>0</th>\n",
       "      <td>94.0</td>\n",
       "      <td>2676</td>\n",
       "      <td>108423</td>\n",
       "      <td>42.99</td>\n",
       "      <td>American Journey</td>\n",
       "      <td>32.0</td>\n",
       "      <td>14.0</td>\n",
       "      <td>10.0</td>\n",
       "      <td>5.0</td>\n",
       "      <td>0</td>\n",
       "      <td>...</td>\n",
       "      <td>0.0</td>\n",
       "      <td>0</td>\n",
       "      <td>1</td>\n",
       "      <td>0</td>\n",
       "      <td>0</td>\n",
       "      <td>0</td>\n",
       "      <td>0</td>\n",
       "      <td>0</td>\n",
       "      <td>0</td>\n",
       "      <td>BrandGroup2</td>\n",
       "    </tr>\n",
       "    <tr>\n",
       "      <th>1</th>\n",
       "      <td>95.0</td>\n",
       "      <td>295</td>\n",
       "      <td>100187</td>\n",
       "      <td>15.99</td>\n",
       "      <td>Moist &amp; Meaty</td>\n",
       "      <td>18.0</td>\n",
       "      <td>7.0</td>\n",
       "      <td>33.0</td>\n",
       "      <td>3.0</td>\n",
       "      <td>0</td>\n",
       "      <td>...</td>\n",
       "      <td>0.0</td>\n",
       "      <td>0</td>\n",
       "      <td>1</td>\n",
       "      <td>0</td>\n",
       "      <td>0</td>\n",
       "      <td>0</td>\n",
       "      <td>0</td>\n",
       "      <td>0</td>\n",
       "      <td>0</td>\n",
       "      <td>BrandGroup4</td>\n",
       "    </tr>\n",
       "    <tr>\n",
       "      <th>2</th>\n",
       "      <td>96.0</td>\n",
       "      <td>854</td>\n",
       "      <td>46874</td>\n",
       "      <td>32.98</td>\n",
       "      <td>Blue Buffalo</td>\n",
       "      <td>26.0</td>\n",
       "      <td>15.0</td>\n",
       "      <td>10.0</td>\n",
       "      <td>4.0</td>\n",
       "      <td>0</td>\n",
       "      <td>...</td>\n",
       "      <td>0.0</td>\n",
       "      <td>0</td>\n",
       "      <td>1</td>\n",
       "      <td>0</td>\n",
       "      <td>0</td>\n",
       "      <td>0</td>\n",
       "      <td>0</td>\n",
       "      <td>0</td>\n",
       "      <td>0</td>\n",
       "      <td>BrandGroup1</td>\n",
       "    </tr>\n",
       "    <tr>\n",
       "      <th>3</th>\n",
       "      <td>100.0</td>\n",
       "      <td>19</td>\n",
       "      <td>183120</td>\n",
       "      <td>48.99</td>\n",
       "      <td>American Journey</td>\n",
       "      <td>30.0</td>\n",
       "      <td>9.0</td>\n",
       "      <td>10.0</td>\n",
       "      <td>9.0</td>\n",
       "      <td>0</td>\n",
       "      <td>...</td>\n",
       "      <td>0.0</td>\n",
       "      <td>0</td>\n",
       "      <td>1</td>\n",
       "      <td>0</td>\n",
       "      <td>0</td>\n",
       "      <td>0</td>\n",
       "      <td>0</td>\n",
       "      <td>0</td>\n",
       "      <td>0</td>\n",
       "      <td>BrandGroup2</td>\n",
       "    </tr>\n",
       "    <tr>\n",
       "      <th>4</th>\n",
       "      <td>95.0</td>\n",
       "      <td>3310</td>\n",
       "      <td>154551</td>\n",
       "      <td>48.99</td>\n",
       "      <td>Taste of the Wild</td>\n",
       "      <td>32.0</td>\n",
       "      <td>18.0</td>\n",
       "      <td>10.0</td>\n",
       "      <td>4.0</td>\n",
       "      <td>0</td>\n",
       "      <td>...</td>\n",
       "      <td>0.0</td>\n",
       "      <td>0</td>\n",
       "      <td>1</td>\n",
       "      <td>0</td>\n",
       "      <td>0</td>\n",
       "      <td>0</td>\n",
       "      <td>0</td>\n",
       "      <td>0</td>\n",
       "      <td>0</td>\n",
       "      <td>BrandGroup4</td>\n",
       "    </tr>\n",
       "    <tr>\n",
       "      <th>...</th>\n",
       "      <td>...</td>\n",
       "      <td>...</td>\n",
       "      <td>...</td>\n",
       "      <td>...</td>\n",
       "      <td>...</td>\n",
       "      <td>...</td>\n",
       "      <td>...</td>\n",
       "      <td>...</td>\n",
       "      <td>...</td>\n",
       "      <td>...</td>\n",
       "      <td>...</td>\n",
       "      <td>...</td>\n",
       "      <td>...</td>\n",
       "      <td>...</td>\n",
       "      <td>...</td>\n",
       "      <td>...</td>\n",
       "      <td>...</td>\n",
       "      <td>...</td>\n",
       "      <td>...</td>\n",
       "      <td>...</td>\n",
       "      <td>...</td>\n",
       "    </tr>\n",
       "    <tr>\n",
       "      <th>6589</th>\n",
       "      <td>87.0</td>\n",
       "      <td>23</td>\n",
       "      <td>132435</td>\n",
       "      <td>13.99</td>\n",
       "      <td>The Honest Kitchen</td>\n",
       "      <td>5.0</td>\n",
       "      <td>45.0</td>\n",
       "      <td>4.5</td>\n",
       "      <td>2.5</td>\n",
       "      <td>1</td>\n",
       "      <td>...</td>\n",
       "      <td>0.0</td>\n",
       "      <td>1</td>\n",
       "      <td>0</td>\n",
       "      <td>0</td>\n",
       "      <td>0</td>\n",
       "      <td>1</td>\n",
       "      <td>1</td>\n",
       "      <td>0</td>\n",
       "      <td>0</td>\n",
       "      <td>BrandGroup3</td>\n",
       "    </tr>\n",
       "    <tr>\n",
       "      <th>6590</th>\n",
       "      <td>83.0</td>\n",
       "      <td>6</td>\n",
       "      <td>82574</td>\n",
       "      <td>21.69</td>\n",
       "      <td>Wysong</td>\n",
       "      <td>52.0</td>\n",
       "      <td>14.0</td>\n",
       "      <td>10.0</td>\n",
       "      <td>5.5</td>\n",
       "      <td>1</td>\n",
       "      <td>...</td>\n",
       "      <td>0.0</td>\n",
       "      <td>0</td>\n",
       "      <td>1</td>\n",
       "      <td>0</td>\n",
       "      <td>0</td>\n",
       "      <td>0</td>\n",
       "      <td>0</td>\n",
       "      <td>0</td>\n",
       "      <td>0</td>\n",
       "      <td>BrandGroup3</td>\n",
       "    </tr>\n",
       "    <tr>\n",
       "      <th>6591</th>\n",
       "      <td>80.0</td>\n",
       "      <td>10</td>\n",
       "      <td>82111</td>\n",
       "      <td>53.09</td>\n",
       "      <td>Lotus</td>\n",
       "      <td>31.0</td>\n",
       "      <td>14.0</td>\n",
       "      <td>10.0</td>\n",
       "      <td>4.0</td>\n",
       "      <td>1</td>\n",
       "      <td>...</td>\n",
       "      <td>0.0</td>\n",
       "      <td>0</td>\n",
       "      <td>1</td>\n",
       "      <td>0</td>\n",
       "      <td>0</td>\n",
       "      <td>0</td>\n",
       "      <td>0</td>\n",
       "      <td>0</td>\n",
       "      <td>0</td>\n",
       "      <td>BrandGroup3</td>\n",
       "    </tr>\n",
       "    <tr>\n",
       "      <th>6592</th>\n",
       "      <td>79.0</td>\n",
       "      <td>19</td>\n",
       "      <td>82107</td>\n",
       "      <td>55.39</td>\n",
       "      <td>Lotus</td>\n",
       "      <td>35.0</td>\n",
       "      <td>19.0</td>\n",
       "      <td>10.0</td>\n",
       "      <td>3.5</td>\n",
       "      <td>1</td>\n",
       "      <td>...</td>\n",
       "      <td>0.0</td>\n",
       "      <td>0</td>\n",
       "      <td>1</td>\n",
       "      <td>0</td>\n",
       "      <td>0</td>\n",
       "      <td>0</td>\n",
       "      <td>0</td>\n",
       "      <td>0</td>\n",
       "      <td>0</td>\n",
       "      <td>BrandGroup3</td>\n",
       "    </tr>\n",
       "    <tr>\n",
       "      <th>6593</th>\n",
       "      <td>60.0</td>\n",
       "      <td>5</td>\n",
       "      <td>82101</td>\n",
       "      <td>14.44</td>\n",
       "      <td>Lotus</td>\n",
       "      <td>36.0</td>\n",
       "      <td>22.0</td>\n",
       "      <td>10.0</td>\n",
       "      <td>3.5</td>\n",
       "      <td>1</td>\n",
       "      <td>...</td>\n",
       "      <td>0.0</td>\n",
       "      <td>0</td>\n",
       "      <td>1</td>\n",
       "      <td>0</td>\n",
       "      <td>0</td>\n",
       "      <td>0</td>\n",
       "      <td>0</td>\n",
       "      <td>0</td>\n",
       "      <td>0</td>\n",
       "      <td>BrandGroup3</td>\n",
       "    </tr>\n",
       "  </tbody>\n",
       "</table>\n",
       "<p>6256 rows × 24 columns</p>\n",
       "</div>"
      ],
      "text/plain": [
       "      RecommendationScore  ReviewNum ItemNumber  Price               Brand  \\\n",
       "0                    94.0       2676     108423  42.99    American Journey   \n",
       "1                    95.0        295     100187  15.99       Moist & Meaty   \n",
       "2                    96.0        854      46874  32.98        Blue Buffalo   \n",
       "3                   100.0         19     183120  48.99    American Journey   \n",
       "4                    95.0       3310     154551  48.99   Taste of the Wild   \n",
       "...                   ...        ...        ...    ...                 ...   \n",
       "6589                 87.0         23     132435  13.99  The Honest Kitchen   \n",
       "6590                 83.0          6      82574  21.69              Wysong   \n",
       "6591                 80.0         10      82111  53.09               Lotus   \n",
       "6592                 79.0         19      82107  55.39               Lotus   \n",
       "6593                 60.0          5      82101  14.44               Lotus   \n",
       "\n",
       "      Protein_min  Fat_min  Moisture_max  Fiber_max  Pet  ...  Senior  Treats  \\\n",
       "0            32.0     14.0          10.0        5.0    0  ...     0.0       0   \n",
       "1            18.0      7.0          33.0        3.0    0  ...     0.0       0   \n",
       "2            26.0     15.0          10.0        4.0    0  ...     0.0       0   \n",
       "3            30.0      9.0          10.0        9.0    0  ...     0.0       0   \n",
       "4            32.0     18.0          10.0        4.0    0  ...     0.0       0   \n",
       "...           ...      ...           ...        ...  ...  ...     ...     ...   \n",
       "6589          5.0     45.0           4.5        2.5    1  ...     0.0       1   \n",
       "6590         52.0     14.0          10.0        5.5    1  ...     0.0       0   \n",
       "6591         31.0     14.0          10.0        4.0    1  ...     0.0       0   \n",
       "6592         35.0     19.0          10.0        3.5    1  ...     0.0       0   \n",
       "6593         36.0     22.0          10.0        3.5    1  ...     0.0       0   \n",
       "\n",
       "      DryFood  WetFood  FreezeDried  FoodTopping  Dehydrated  AirDried  \\\n",
       "0           1        0            0            0           0         0   \n",
       "1           1        0            0            0           0         0   \n",
       "2           1        0            0            0           0         0   \n",
       "3           1        0            0            0           0         0   \n",
       "4           1        0            0            0           0         0   \n",
       "...       ...      ...          ...          ...         ...       ...   \n",
       "6589        0        0            0            1           1         0   \n",
       "6590        1        0            0            0           0         0   \n",
       "6591        1        0            0            0           0         0   \n",
       "6592        1        0            0            0           0         0   \n",
       "6593        1        0            0            0           0         0   \n",
       "\n",
       "      Frozen   BrandGroup  \n",
       "0          0  BrandGroup2  \n",
       "1          0  BrandGroup4  \n",
       "2          0  BrandGroup1  \n",
       "3          0  BrandGroup2  \n",
       "4          0  BrandGroup4  \n",
       "...      ...          ...  \n",
       "6589       0  BrandGroup3  \n",
       "6590       0  BrandGroup3  \n",
       "6591       0  BrandGroup3  \n",
       "6592       0  BrandGroup3  \n",
       "6593       0  BrandGroup3  \n",
       "\n",
       "[6256 rows x 24 columns]"
      ]
     },
     "execution_count": 192,
     "metadata": {},
     "output_type": "execute_result"
    }
   ],
   "source": [
    "food_list_clean"
   ]
  },
  {
   "cell_type": "markdown",
   "metadata": {},
   "source": [
    "# More visualizations"
   ]
  },
  {
   "cell_type": "code",
   "execution_count": 193,
   "metadata": {},
   "outputs": [
    {
     "data": {
      "image/png": "[encoded data removed]",
      "text/plain": [
       "<Figure size 432x288 with 1 Axes>"
      ]
     },
     "metadata": {
      "needs_background": "light"
     },
     "output_type": "display_data"
    }
   ],
   "source": [
    "sns.distplot(food_list_clean['RecommendationScore'],bins=10,norm_hist=True);"
   ]
  },
  {
   "cell_type": "code",
   "execution_count": 194,
   "metadata": {},
   "outputs": [
    {
     "data": {
      "image/png": "[encoded data removed]",
      "text/plain": [
       "<Figure size 432x288 with 1 Axes>"
      ]
     },
     "metadata": {
      "needs_background": "light"
     },
     "output_type": "display_data"
    }
   ],
   "source": [
    "sns.distplot(food_list_clean['PricePerPound'],bins=10,norm_hist=True);"
   ]
  },
  {
   "cell_type": "code",
   "execution_count": 195,
   "metadata": {},
   "outputs": [
    {
     "data": {
      "text/plain": [
       "<matplotlib.axes._subplots.AxesSubplot at 0x7f8455d9f850>"
      ]
     },
     "execution_count": 195,
     "metadata": {},
     "output_type": "execute_result"
    },
    {
     "data": {
      "image/png": "[encoded data removed]",
      "text/plain": [
       "<Figure size 432x288 with 1 Axes>"
      ]
     },
     "metadata": {
      "needs_background": "light"
     },
     "output_type": "display_data"
    }
   ],
   "source": [
    "sns.regplot(x=\"PricePerPound\", y=\"RecommendationScore\", data=food_list_clean,scatter_kws={'alpha':0.2})"
   ]
  },
  {
   "cell_type": "code",
   "execution_count": 196,
   "metadata": {},
   "outputs": [
    {
     "data": {
      "text/plain": [
       "<matplotlib.axes._subplots.AxesSubplot at 0x7f8451580650>"
      ]
     },
     "execution_count": 196,
     "metadata": {},
     "output_type": "execute_result"
    },
    {
     "data": {
      "image/png": "[encoded data removed]",
      "text/plain": [
       "<Figure size 432x288 with 1 Axes>"
      ]
     },
     "metadata": {
      "needs_background": "light"
     },
     "output_type": "display_data"
    }
   ],
   "source": [
    "sns.regplot(x=\"Protein_min\", y=\"RecommendationScore\", data=food_list_clean,scatter_kws={'alpha':0.2})"
   ]
  },
  {
   "cell_type": "code",
   "execution_count": 197,
   "metadata": {},
   "outputs": [
    {
     "data": {
      "image/png": "[encoded data removed]",
      "text/plain": [
       "<Figure size 432x288 with 1 Axes>"
      ]
     },
     "metadata": {
      "needs_background": "light"
     },
     "output_type": "display_data"
    }
   ],
   "source": [
    "with sns.color_palette(\"pastel\"):\n",
    "    score_brandgroup = food_list_clean.groupby('BrandGroup')['RecommendationScore'].mean().reset_index()\n",
    "    sns.barplot(x=\"BrandGroup\", y=\"RecommendationScore\", data=food_list_clean)"
   ]
  },
  {
   "cell_type": "code",
   "execution_count": 198,
   "metadata": {},
   "outputs": [
    {
     "data": {
      "image/png": "[encoded data removed]",
      "text/plain": [
       "<Figure size 504x360 with 1 Axes>"
      ]
     },
     "metadata": {
      "needs_background": "light"
     },
     "output_type": "display_data"
    }
   ],
   "source": [
    "plt.figure(figsize=(7,5))\n",
    "with sns.color_palette(\"pastel\"):\n",
    "    sns.countplot(food_list_clean['BrandGroup']);"
   ]
  },
  {
   "cell_type": "code",
   "execution_count": 199,
   "metadata": {},
   "outputs": [],
   "source": [
    "food_type_dic = {\n",
    "    'FoodType':['Treats','DryFood','WetFood','FreezeDried','FoodTopping','Dehydrated','AirDried','Frozen'],\n",
    "    'Count': [food_list_clean['Treats'].sum(),food_list_clean['DryFood'].sum(),food_list_clean['WetFood'].sum(),\n",
    "    food_list_clean['FreezeDried'].sum(),food_list_clean['FoodTopping'].sum(),food_list_clean['Dehydrated'].sum(),\n",
    "    food_list_clean['AirDried'].sum(),food_list_clean['Frozen'].sum()]\n",
    "}\n"
   ]
  },
  {
   "cell_type": "code",
   "execution_count": 200,
   "metadata": {},
   "outputs": [
    {
     "data": {
      "image/png": "[encoded data removed]",
      "text/plain": [
       "<Figure size 720x504 with 1 Axes>"
      ]
     },
     "metadata": {
      "needs_background": "light"
     },
     "output_type": "display_data"
    }
   ],
   "source": [
    "plt.figure(figsize=(10,7))\n",
    "with sns.color_palette(\"pastel\"):\n",
    "    sns.barplot(x='FoodType',y='Count',data=food_type_dic)"
   ]
  },
  {
   "cell_type": "code",
   "execution_count": 201,
   "metadata": {},
   "outputs": [],
   "source": [
    "life_stage_dic = {\n",
    "    'LifeStage':['Adult','Puppy/Kitten','Senior'],\n",
    "    'Count': [food_list_clean['Adult'].sum(),food_list_clean['PuppyOrKitten'].sum(),food_list_clean['Senior'].sum()]\n",
    "}"
   ]
  },
  {
   "cell_type": "code",
   "execution_count": 202,
   "metadata": {},
   "outputs": [
    {
     "data": {
      "image/png": "[encoded data removed]",
      "text/plain": [
       "<Figure size 504x360 with 1 Axes>"
      ]
     },
     "metadata": {
      "needs_background": "light"
     },
     "output_type": "display_data"
    }
   ],
   "source": [
    "plt.figure(figsize=(7,5))\n",
    "with sns.color_palette(\"pastel\"):\n",
    "    sns.barplot(x='LifeStage',y='Count',data=life_stage_dic)"
   ]
  },
  {
   "cell_type": "code",
   "execution_count": null,
   "metadata": {},
   "outputs": [],
   "source": []
  }
 ],
 "metadata": {
  "kernelspec": {
   "display_name": "Python 3",
   "language": "python",
   "name": "python3"
  },
  "language_info": {
   "codemirror_mode": {
    "name": "ipython",
    "version": 3
   },
   "file_extension": ".py",
   "mimetype": "text/x-python",
   "name": "python",
   "nbconvert_exporter": "python",
   "pygments_lexer": "ipython3",
   "version": "3.7.7"
  },
  "toc": {
   "base_numbering": 1,
   "nav_menu": {},
   "number_sections": true,
   "sideBar": true,
   "skip_h1_title": false,
   "title_cell": "Table of Contents",
   "title_sidebar": "Contents",
   "toc_cell": false,
   "toc_position": {},
   "toc_section_display": true,
   "toc_window_display": false
  }
 },
 "nbformat": 4,
 "nbformat_minor": 4
}
